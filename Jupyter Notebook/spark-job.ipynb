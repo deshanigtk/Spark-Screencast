{
 "cells": [
  {
   "cell_type": "code",
   "execution_count": 1,
   "metadata": {},
   "outputs": [],
   "source": [
    "import pyspark.sql as sql\n",
    "from pyspark.sql import SparkSession"
   ]
  },
  {
   "cell_type": "markdown",
   "metadata": {},
   "source": [
    "<h1>Creating DataFrames"
   ]
  },
  {
   "cell_type": "code",
   "execution_count": 2,
   "metadata": {},
   "outputs": [],
   "source": [
    "spark = SparkSession.builder.master('local[*]').appName(\"Spark-App-Find-Deaths\").getOrCreate()"
   ]
  },
  {
   "cell_type": "code",
   "execution_count": 3,
   "metadata": {},
   "outputs": [],
   "source": [
    "df = spark.read.csv(\"data/death-causes.csv\", header=True)"
   ]
  },
  {
   "cell_type": "code",
   "execution_count": 4,
   "metadata": {},
   "outputs": [
    {
     "name": "stdout",
     "output_type": "stream",
     "text": [
      "+----+--------------------+--------------------+--------------+------+-----------------------+\n",
      "|Year|      113_Cause_Name|          Cause_Name|         State|Deaths|Age-adjusted_Death_Rate|\n",
      "+----+--------------------+--------------------+--------------+------+-----------------------+\n",
      "|2008|Influenza and pne...|Influenza and pne...|  South Dakota|   177|                     17|\n",
      "|2005|Malignant neoplas...|              Cancer|   Connecticut|  7052|                  176.8|\n",
      "|2007|Intentional self-...|             Suicide|     Wisconsin|   729|                   12.7|\n",
      "|2016|Accidents (uninte...|Unintentional inj...|      Nebraska|   772|                     37|\n",
      "|2013|Diseases of heart...|       Heart disease|  North Dakota|  1382|                  150.7|\n",
      "|2009|Diabetes mellitus...|            Diabetes|  North Dakota|   214|                   25.4|\n",
      "|2011|Nephritis, nephro...|      Kidney disease|          Ohio|  1943|                   14.2|\n",
      "|2000|Diseases of heart...|       Heart disease|      Delaware|  1983|                  262.5|\n",
      "|2003|Malignant neoplas...|              Cancer| New Hampshire|  2485|                  193.7|\n",
      "|2013|Intentional self-...|             Suicide|North Carolina|  1284|                   12.6|\n",
      "|2009|Diseases of heart...|       Heart disease|      Arkansas|  7295|                  226.1|\n",
      "|2015|Alzheimer's disea...| Alzheimer's disease|      Arkansas|  1457|                   41.5|\n",
      "|1999|Malignant neoplas...|              Cancer|       Montana|  1854|                  195.1|\n",
      "|2007|Alzheimer's disea...| Alzheimer's disease|  Pennsylvania|  3505|                   20.3|\n",
      "|2001|Accidents (uninte...|Unintentional inj...|       Wyoming|   272|                   55.5|\n",
      "|2012|Malignant neoplas...|              Cancer|  North Dakota|  1253|                  150.7|\n",
      "|2015|Malignant neoplas...|              Cancer|       Indiana| 13511|                  176.3|\n",
      "|2001|Cerebrovascular d...|              Stroke|  Rhode Island|   614|                   48.2|\n",
      "|2002|Malignant neoplas...|              Cancer|  Rhode Island|  2404|                  199.3|\n",
      "|2002|Diseases of heart...|       Heart disease|      Virginia| 14952|                    230|\n",
      "+----+--------------------+--------------------+--------------+------+-----------------------+\n",
      "only showing top 20 rows\n",
      "\n"
     ]
    }
   ],
   "source": [
    "df.show()"
   ]
  },
  {
   "cell_type": "markdown",
   "metadata": {},
   "source": [
    "<h1>DataFrame Operations"
   ]
  },
  {
   "cell_type": "code",
   "execution_count": 5,
   "metadata": {},
   "outputs": [
    {
     "name": "stdout",
     "output_type": "stream",
     "text": [
      "root\n",
      " |-- Year: string (nullable = true)\n",
      " |-- 113_Cause_Name: string (nullable = true)\n",
      " |-- Cause_Name: string (nullable = true)\n",
      " |-- State: string (nullable = true)\n",
      " |-- Deaths: string (nullable = true)\n",
      " |-- Age-adjusted_Death_Rate: string (nullable = true)\n",
      "\n"
     ]
    }
   ],
   "source": [
    "df.printSchema()"
   ]
  },
  {
   "cell_type": "code",
   "execution_count": 6,
   "metadata": {},
   "outputs": [
    {
     "data": {
      "text/plain": [
       "[('Year', 'string'),\n",
       " ('113_Cause_Name', 'string'),\n",
       " ('Cause_Name', 'string'),\n",
       " ('State', 'string'),\n",
       " ('Deaths', 'string'),\n",
       " ('Age-adjusted_Death_Rate', 'string')]"
      ]
     },
     "execution_count": 6,
     "metadata": {},
     "output_type": "execute_result"
    }
   ],
   "source": [
    "df.dtypes"
   ]
  },
  {
   "cell_type": "code",
   "execution_count": 7,
   "metadata": {},
   "outputs": [],
   "source": [
    "df = df.withColumnRenamed(\"Cause_Name\", \"Causes\")"
   ]
  },
  {
   "cell_type": "code",
   "execution_count": 8,
   "metadata": {},
   "outputs": [
    {
     "data": {
      "text/plain": [
       "[('Year', 'string'),\n",
       " ('113_Cause_Name', 'string'),\n",
       " ('Causes', 'string'),\n",
       " ('State', 'string'),\n",
       " ('Deaths', 'int'),\n",
       " ('Age-adjusted_Death_Rate', 'float')]"
      ]
     },
     "execution_count": 8,
     "metadata": {},
     "output_type": "execute_result"
    }
   ],
   "source": [
    "df = df.withColumn(\"Deaths\", df[\"Deaths\"].cast(sql.types.IntegerType()))\n",
    "df = df.withColumn(\"Age-adjusted_Death_Rate\", df[\"Age-adjusted_Death_Rate\"].cast(sql.types.FloatType()))\n",
    "df.dtypes"
   ]
  },
  {
   "cell_type": "code",
   "execution_count": 9,
   "metadata": {},
   "outputs": [
    {
     "name": "stdout",
     "output_type": "stream",
     "text": [
      "+----+\n",
      "|Year|\n",
      "+----+\n",
      "|2008|\n",
      "|2005|\n",
      "|2007|\n",
      "|2016|\n",
      "|2013|\n",
      "|2009|\n",
      "|2011|\n",
      "|2000|\n",
      "|2003|\n",
      "|2013|\n",
      "+----+\n",
      "only showing top 10 rows\n",
      "\n"
     ]
    }
   ],
   "source": [
    "df.select(\"Year\").show(10)"
   ]
  },
  {
   "cell_type": "code",
   "execution_count": 10,
   "metadata": {},
   "outputs": [
    {
     "name": "stdout",
     "output_type": "stream",
     "text": [
      "+----+--------------------+------+-------------+------+-----------------------+\n",
      "|Year|      113_Cause_Name|Causes|        State|Deaths|Age-adjusted_Death_Rate|\n",
      "+----+--------------------+------+-------------+------+-----------------------+\n",
      "|2005|Malignant neoplas...|Cancer|  Connecticut|  7052|                  176.8|\n",
      "|2003|Malignant neoplas...|Cancer|New Hampshire|  2485|                  193.7|\n",
      "|1999|Malignant neoplas...|Cancer|      Montana|  1854|                  195.1|\n",
      "|2012|Malignant neoplas...|Cancer| North Dakota|  1253|                  150.7|\n",
      "|2015|Malignant neoplas...|Cancer|      Indiana| 13511|                  176.3|\n",
      "|2002|Malignant neoplas...|Cancer| Rhode Island|  2404|                  199.3|\n",
      "|2014|Malignant neoplas...|Cancer|      Alabama| 10286|                  177.6|\n",
      "|2016|Malignant neoplas...|Cancer|         Utah|  3125|                  122.4|\n",
      "|2012|Malignant neoplas...|Cancer|      Florida| 42188|                  158.8|\n",
      "|2001|Malignant neoplas...|Cancer|    Louisiana|  9517|                  228.0|\n",
      "|2009|Malignant neoplas...|Cancer|         Iowa|  6249|                  170.4|\n",
      "|2004|Malignant neoplas...|Cancer|  Mississippi|  5983|                  209.8|\n",
      "|2003|Malignant neoplas...|Cancer| Pennsylvania| 29841|                  200.0|\n",
      "|2009|Malignant neoplas...|Cancer|    Minnesota|  9580|                  168.7|\n",
      "|2004|Malignant neoplas...|Cancer|    Louisiana|  9434|                  216.3|\n",
      "|2001|Malignant neoplas...|Cancer|      Alabama|  9801|                  213.0|\n",
      "|2007|Malignant neoplas...|Cancer|       Hawaii|  2214|                  148.0|\n",
      "|1999|Malignant neoplas...|Cancer|     Virginia| 13365|                  209.1|\n",
      "|2015|Malignant neoplas...|Cancer|Massachusetts| 12750|                  152.9|\n",
      "|1999|Malignant neoplas...|Cancer|     Oklahoma|  7312|                  206.7|\n",
      "+----+--------------------+------+-------------+------+-----------------------+\n",
      "only showing top 20 rows\n",
      "\n"
     ]
    }
   ],
   "source": [
    "df.filter(df['Causes'] == \"Cancer\").show()"
   ]
  },
  {
   "cell_type": "code",
   "execution_count": 11,
   "metadata": {
    "scrolled": true
   },
   "outputs": [
    {
     "name": "stdout",
     "output_type": "stream",
     "text": [
      "+--------------------+-----+\n",
      "|              Causes|count|\n",
      "+--------------------+-----+\n",
      "|Influenza and pne...|  906|\n",
      "|                CLRD|  907|\n",
      "|            Diabetes|  903|\n",
      "|              Stroke|  918|\n",
      "|             Suicide|  919|\n",
      "|              Cancer|  907|\n",
      "|      Kidney disease|  908|\n",
      "|       Heart disease|  910|\n",
      "|Unintentional inj...|  913|\n",
      "| Alzheimer's disease|  909|\n",
      "|          All causes|  900|\n",
      "+--------------------+-----+\n",
      "\n"
     ]
    }
   ],
   "source": [
    "df.groupBy(\"Causes\").count().show()"
   ]
  },
  {
   "cell_type": "code",
   "execution_count": 12,
   "metadata": {},
   "outputs": [
    {
     "name": "stdout",
     "output_type": "stream",
     "text": [
      "+----+-------------------+-----------+\n",
      "|Year|             Causes|sum(Deaths)|\n",
      "+----+-------------------+-----------+\n",
      "|2009|           Diabetes|     130927|\n",
      "|2000|               CLRD|     244018|\n",
      "|2001|Alzheimer's disease|     107111|\n",
      "|2011|           Diabetes|     147662|\n",
      "|2003|             Stroke|     305479|\n",
      "|2007|               CLRD|     255391|\n",
      "|2014|         All causes|    5097328|\n",
      "|2004|               CLRD|     243379|\n",
      "|2006|     Kidney disease|      90688|\n",
      "|2002|     Kidney disease|      73086|\n",
      "|2012|     Kidney disease|      90194|\n",
      "|2000|      Heart disease|    1409172|\n",
      "|2013|      Heart disease|    1207118|\n",
      "|2016|             Stroke|     284284|\n",
      "|2009|             Stroke|     257684|\n",
      "|2009|         All causes|    4831139|\n",
      "|2010|             Cancer|    1146048|\n",
      "|2004|     Kidney disease|      84607|\n",
      "|2008|               CLRD|     275413|\n",
      "|2016|Alzheimer's disease|     231485|\n",
      "+----+-------------------+-----------+\n",
      "only showing top 20 rows\n",
      "\n"
     ]
    }
   ],
   "source": [
    "df.groupBy([\"Year\", \"Causes\"]).sum(\"Deaths\").show()"
   ]
  },
  {
   "cell_type": "markdown",
   "metadata": {},
   "source": [
    "<h1>Running SQL Queries Programmatically"
   ]
  },
  {
   "cell_type": "code",
   "execution_count": 13,
   "metadata": {},
   "outputs": [],
   "source": [
    "df.createOrReplaceTempView(\"deaths\")"
   ]
  },
  {
   "cell_type": "code",
   "execution_count": 14,
   "metadata": {},
   "outputs": [
    {
     "name": "stdout",
     "output_type": "stream",
     "text": [
      "+----+--------------------+--------------------+--------------+------+-----------------------+\n",
      "|Year|      113_Cause_Name|              Causes|         State|Deaths|Age-adjusted_Death_Rate|\n",
      "+----+--------------------+--------------------+--------------+------+-----------------------+\n",
      "|2010|Diabetes mellitus...|            Diabetes|       Indiana|  1587|                   22.7|\n",
      "|2010|Intentional self-...|             Suicide|   Mississippi|   388|                   13.0|\n",
      "|2010|Diseases of heart...|       Heart disease|      Maryland| 10915|                  182.2|\n",
      "|2010|Diseases of heart...|       Heart disease|    New Mexico|  3224|                  151.2|\n",
      "|2010|Accidents (uninte...|Unintentional inj...|         Maine|   540|                   36.6|\n",
      "|2010|Influenza and pne...|Influenza and pne...|        Kansas|   550|                   16.4|\n",
      "|2010|Intentional self-...|             Suicide|  Rhode Island|   129|                   12.3|\n",
      "|2010|Intentional self-...|             Suicide|       Vermont|   106|                   15.7|\n",
      "|2010|Alzheimer's disea...| Alzheimer's disease|      Missouri|  1986|                   28.8|\n",
      "|2010|Diabetes mellitus...|            Diabetes|    New Jersey|  2098|                   21.0|\n",
      "|2010|Intentional self-...|             Suicide|    Washington|   957|                   13.9|\n",
      "|2010|Alzheimer's disea...| Alzheimer's disease|      Nebraska|   565|                   24.9|\n",
      "|2010|Diabetes mellitus...|            Diabetes|  Rhode Island|   211|                   16.0|\n",
      "|2010|Diseases of heart...|       Heart disease|   Mississippi|  7542|                  251.1|\n",
      "|2010|Intentional self-...|             Suicide|      Missouri|   856|                   14.0|\n",
      "|2010|Influenza and pne...|Influenza and pne...|      Illinois|  2212|                   16.1|\n",
      "|2010|Accidents (uninte...|Unintentional inj...|     Minnesota|  2103|                   36.7|\n",
      "|2010|Nephritis, nephro...|      Kidney disease|South Carolina|   963|                   19.9|\n",
      "|2010|Accidents (uninte...|Unintentional inj...|      Michigan|  3770|                   36.2|\n",
      "|2010|Accidents (uninte...|Unintentional inj...|        Kansas|  1317|                   44.0|\n",
      "+----+--------------------+--------------------+--------------+------+-----------------------+\n",
      "only showing top 20 rows\n",
      "\n"
     ]
    }
   ],
   "source": [
    "sqlDF = spark.sql(\"SELECT * FROM deaths WHERE YEAR==2010\")\n",
    "sqlDF.show()"
   ]
  },
  {
   "cell_type": "code",
   "execution_count": 15,
   "metadata": {
    "scrolled": true
   },
   "outputs": [
    {
     "name": "stdout",
     "output_type": "stream",
     "text": [
      "+----+-------------------+-----------+\n",
      "|Year|             Causes|sum(Deaths)|\n",
      "+----+-------------------+-----------+\n",
      "|2009|           Diabetes|     130927|\n",
      "|2000|               CLRD|     244018|\n",
      "|2001|Alzheimer's disease|     107111|\n",
      "|2011|           Diabetes|     147662|\n",
      "|2003|             Stroke|     305479|\n",
      "|2007|               CLRD|     255391|\n",
      "|2014|         All causes|    5097328|\n",
      "|2004|               CLRD|     243379|\n",
      "|2006|     Kidney disease|      90688|\n",
      "|2002|     Kidney disease|      73086|\n",
      "|2012|     Kidney disease|      90194|\n",
      "|2000|      Heart disease|    1409172|\n",
      "|2013|      Heart disease|    1207118|\n",
      "|2016|             Stroke|     284284|\n",
      "|2009|             Stroke|     257684|\n",
      "|2009|         All causes|    4831139|\n",
      "|2010|             Cancer|    1146048|\n",
      "|2004|     Kidney disease|      84607|\n",
      "|2008|               CLRD|     275413|\n",
      "|2016|Alzheimer's disease|     231485|\n",
      "+----+-------------------+-----------+\n",
      "only showing top 20 rows\n",
      "\n"
     ]
    }
   ],
   "source": [
    "sqlDF = spark.sql(\"SELECT Year, Causes, sum(Deaths) FROM deaths GROUP BY Year,Causes\")\n",
    "sqlDF.show()"
   ]
  },
  {
   "cell_type": "markdown",
   "metadata": {},
   "source": [
    "<h1>Global Temporary View"
   ]
  },
  {
   "cell_type": "code",
   "execution_count": 16,
   "metadata": {},
   "outputs": [],
   "source": [
    "df.createGlobalTempView(\"global_deaths\")"
   ]
  },
  {
   "cell_type": "code",
   "execution_count": 17,
   "metadata": {},
   "outputs": [
    {
     "name": "stdout",
     "output_type": "stream",
     "text": [
      "+----+--------------------+--------------------+--------------+------+-----------------------+\n",
      "|Year|      113_Cause_Name|              Causes|         State|Deaths|Age-adjusted_Death_Rate|\n",
      "+----+--------------------+--------------------+--------------+------+-----------------------+\n",
      "|2008|Influenza and pne...|Influenza and pne...|  South Dakota|   177|                   17.0|\n",
      "|2005|Malignant neoplas...|              Cancer|   Connecticut|  7052|                  176.8|\n",
      "|2007|Intentional self-...|             Suicide|     Wisconsin|   729|                   12.7|\n",
      "|2016|Accidents (uninte...|Unintentional inj...|      Nebraska|   772|                   37.0|\n",
      "|2013|Diseases of heart...|       Heart disease|  North Dakota|  1382|                  150.7|\n",
      "|2009|Diabetes mellitus...|            Diabetes|  North Dakota|   214|                   25.4|\n",
      "|2011|Nephritis, nephro...|      Kidney disease|          Ohio|  1943|                   14.2|\n",
      "|2000|Diseases of heart...|       Heart disease|      Delaware|  1983|                  262.5|\n",
      "|2003|Malignant neoplas...|              Cancer| New Hampshire|  2485|                  193.7|\n",
      "|2013|Intentional self-...|             Suicide|North Carolina|  1284|                   12.6|\n",
      "|2009|Diseases of heart...|       Heart disease|      Arkansas|  7295|                  226.1|\n",
      "|2015|Alzheimer's disea...| Alzheimer's disease|      Arkansas|  1457|                   41.5|\n",
      "|1999|Malignant neoplas...|              Cancer|       Montana|  1854|                  195.1|\n",
      "|2007|Alzheimer's disea...| Alzheimer's disease|  Pennsylvania|  3505|                   20.3|\n",
      "|2001|Accidents (uninte...|Unintentional inj...|       Wyoming|   272|                   55.5|\n",
      "|2012|Malignant neoplas...|              Cancer|  North Dakota|  1253|                  150.7|\n",
      "|2015|Malignant neoplas...|              Cancer|       Indiana| 13511|                  176.3|\n",
      "|2001|Cerebrovascular d...|              Stroke|  Rhode Island|   614|                   48.2|\n",
      "|2002|Malignant neoplas...|              Cancer|  Rhode Island|  2404|                  199.3|\n",
      "|2002|Diseases of heart...|       Heart disease|      Virginia| 14952|                  230.0|\n",
      "+----+--------------------+--------------------+--------------+------+-----------------------+\n",
      "only showing top 20 rows\n",
      "\n"
     ]
    }
   ],
   "source": [
    "spark.sql(\"SELECT * FROM global_temp.global_deaths\").show()"
   ]
  },
  {
   "cell_type": "markdown",
   "metadata": {},
   "source": [
    "<h1>Interoperating with RDDs"
   ]
  },
  {
   "cell_type": "markdown",
   "metadata": {},
   "source": [
    "<h2>Inferring the Schema Using Reflection"
   ]
  },
  {
   "cell_type": "code",
   "execution_count": 18,
   "metadata": {},
   "outputs": [],
   "source": [
    "from pyspark.sql import Row"
   ]
  },
  {
   "cell_type": "code",
   "execution_count": 19,
   "metadata": {},
   "outputs": [],
   "source": [
    "sc = spark.sparkContext"
   ]
  },
  {
   "cell_type": "code",
   "execution_count": 20,
   "metadata": {},
   "outputs": [],
   "source": [
    "lines = sc.textFile(\"death-causes.txt\")"
   ]
  },
  {
   "cell_type": "code",
   "execution_count": 21,
   "metadata": {},
   "outputs": [],
   "source": [
    "parts = lines.map(lambda l: l.split(\",\"))"
   ]
  },
  {
   "cell_type": "code",
   "execution_count": 22,
   "metadata": {},
   "outputs": [],
   "source": [
    "deathsDF = parts.map(lambda d: Row(Year=d[0], Causes=d[1], State=d[2], Deaths=d[3], Age_adjusted_Death_Rate=d[4]))"
   ]
  },
  {
   "cell_type": "code",
   "execution_count": 23,
   "metadata": {
    "scrolled": true
   },
   "outputs": [],
   "source": [
    "schemaDeaths = spark.createDataFrame(deathsDF)"
   ]
  },
  {
   "cell_type": "code",
   "execution_count": 24,
   "metadata": {},
   "outputs": [
    {
     "name": "stdout",
     "output_type": "stream",
     "text": [
      "+----+-------------------+-----------+\n",
      "|Year|             Causes|sum(Deaths)|\n",
      "+----+-------------------+-----------+\n",
      "|2009|           Diabetes|     130927|\n",
      "|2000|               CLRD|     244018|\n",
      "|2001|Alzheimer's disease|     107111|\n",
      "|2011|           Diabetes|     147662|\n",
      "|2003|             Stroke|     305479|\n",
      "|2007|               CLRD|     255391|\n",
      "|2014|         All causes|    5097328|\n",
      "|2004|               CLRD|     243379|\n",
      "|2006|     Kidney disease|      90688|\n",
      "|2002|     Kidney disease|      73086|\n",
      "|2012|     Kidney disease|      90194|\n",
      "|2000|      Heart disease|    1409172|\n",
      "|2013|      Heart disease|    1207118|\n",
      "|2016|             Stroke|     284284|\n",
      "|2009|             Stroke|     257684|\n",
      "|2009|         All causes|    4831139|\n",
      "|2010|             Cancer|    1146048|\n",
      "|2004|     Kidney disease|      84607|\n",
      "|2008|               CLRD|     275413|\n",
      "|2016|Alzheimer's disease|     231485|\n",
      "+----+-------------------+-----------+\n",
      "only showing top 20 rows\n",
      "\n"
     ]
    }
   ],
   "source": [
    "schemaDeaths = schemaDeaths.withColumn(\"Deaths\", schemaDeaths[\"Deaths\"].cast(sql.types.IntegerType()))\n",
    "schemaDeaths = schemaDeaths.withColumn(\"Age-adjusted_Death_Rate\", schemaDeaths[\"Age_adjusted_Death_Rate\"].cast(sql.types.FloatType()))\n",
    "schemaDeaths.groupBy([\"Year\", \"Causes\"]).sum(\"Deaths\").show()"
   ]
  },
  {
   "cell_type": "code",
   "execution_count": 25,
   "metadata": {},
   "outputs": [],
   "source": [
    "schemaDeaths.createOrReplaceTempView(\"deathsTempView\")"
   ]
  },
  {
   "cell_type": "code",
   "execution_count": 26,
   "metadata": {},
   "outputs": [
    {
     "name": "stdout",
     "output_type": "stream",
     "text": [
      "+-----------------------+--------------------+------+--------------+----+-----------------------+\n",
      "|Age_adjusted_Death_Rate|              Causes|Deaths|         State|Year|Age-adjusted_Death_Rate|\n",
      "+-----------------------+--------------------+------+--------------+----+-----------------------+\n",
      "|                     17|Influenza and pne...|   177|  South Dakota|2008|                   17.0|\n",
      "|                  176.8|              Cancer|  7052|   Connecticut|2005|                  176.8|\n",
      "|                   12.7|             Suicide|   729|     Wisconsin|2007|                   12.7|\n",
      "|                     37|Unintentional inj...|   772|      Nebraska|2016|                   37.0|\n",
      "|                  150.7|       Heart disease|  1382|  North Dakota|2013|                  150.7|\n",
      "|                   25.4|            Diabetes|   214|  North Dakota|2009|                   25.4|\n",
      "|                   14.2|      Kidney disease|  1943|          Ohio|2011|                   14.2|\n",
      "|                  262.5|       Heart disease|  1983|      Delaware|2000|                  262.5|\n",
      "|                  193.7|              Cancer|  2485| New Hampshire|2003|                  193.7|\n",
      "|                   12.6|             Suicide|  1284|North Carolina|2013|                   12.6|\n",
      "|                  226.1|       Heart disease|  7295|      Arkansas|2009|                  226.1|\n",
      "|                   41.5| Alzheimer's disease|  1457|      Arkansas|2015|                   41.5|\n",
      "|                  195.1|              Cancer|  1854|       Montana|1999|                  195.1|\n",
      "|                   20.3| Alzheimer's disease|  3505|  Pennsylvania|2007|                   20.3|\n",
      "|                   55.5|Unintentional inj...|   272|       Wyoming|2001|                   55.5|\n",
      "|                  150.7|              Cancer|  1253|  North Dakota|2012|                  150.7|\n",
      "|                  176.3|              Cancer| 13511|       Indiana|2015|                  176.3|\n",
      "|                   48.2|              Stroke|   614|  Rhode Island|2001|                   48.2|\n",
      "|                  199.3|              Cancer|  2404|  Rhode Island|2002|                  199.3|\n",
      "|                    230|       Heart disease| 14952|      Virginia|2002|                  230.0|\n",
      "+-----------------------+--------------------+------+--------------+----+-----------------------+\n",
      "only showing top 20 rows\n",
      "\n"
     ]
    }
   ],
   "source": [
    "age_rate = spark.sql(\"SELECT * FROM deathsTempView\")\n",
    "age_rate.show()"
   ]
  },
  {
   "cell_type": "markdown",
   "metadata": {},
   "source": [
    "<h2>Programmatically Specifying the Schema"
   ]
  },
  {
   "cell_type": "code",
   "execution_count": 27,
   "metadata": {},
   "outputs": [],
   "source": [
    "from pyspark.sql.types import *"
   ]
  },
  {
   "cell_type": "code",
   "execution_count": 28,
   "metadata": {},
   "outputs": [],
   "source": [
    "lines = sc.textFile(\"death-causes.txt\")"
   ]
  },
  {
   "cell_type": "code",
   "execution_count": 29,
   "metadata": {},
   "outputs": [],
   "source": [
    "parts = lines.map(lambda l: l.split(\",\"))"
   ]
  },
  {
   "cell_type": "code",
   "execution_count": 30,
   "metadata": {},
   "outputs": [],
   "source": [
    "deaths = parts.map(lambda d: (d[0], d[1], d[2], d[3], d[4]))"
   ]
  },
  {
   "cell_type": "code",
   "execution_count": 31,
   "metadata": {},
   "outputs": [],
   "source": [
    "schemaString = \"Year Causes Deaths State Age_adjusted_Death_Rate\""
   ]
  },
  {
   "cell_type": "code",
   "execution_count": 32,
   "metadata": {},
   "outputs": [],
   "source": [
    "fields = [StructField(field_name, StringType(), True) for field_name in schemaString.split()]\n",
    "schema = StructType(fields)"
   ]
  },
  {
   "cell_type": "code",
   "execution_count": 33,
   "metadata": {},
   "outputs": [],
   "source": [
    "schemaDeaths = spark.createDataFrame(deaths, schema)"
   ]
  },
  {
   "cell_type": "code",
   "execution_count": 34,
   "metadata": {},
   "outputs": [],
   "source": [
    "schemaDeaths.createOrReplaceTempView(\"deathTempView\")"
   ]
  },
  {
   "cell_type": "code",
   "execution_count": 35,
   "metadata": {},
   "outputs": [],
   "source": [
    "results = spark.sql(\"SELECT * FROM deathTempView\")"
   ]
  },
  {
   "cell_type": "code",
   "execution_count": 36,
   "metadata": {},
   "outputs": [
    {
     "name": "stdout",
     "output_type": "stream",
     "text": [
      "+----+--------------------+--------------+-----+-----------------------+\n",
      "|Year|              Causes|        Deaths|State|Age_adjusted_Death_Rate|\n",
      "+----+--------------------+--------------+-----+-----------------------+\n",
      "|2008|Influenza and pne...|  South Dakota|  177|                     17|\n",
      "|2005|              Cancer|   Connecticut| 7052|                  176.8|\n",
      "|2007|             Suicide|     Wisconsin|  729|                   12.7|\n",
      "|2016|Unintentional inj...|      Nebraska|  772|                     37|\n",
      "|2013|       Heart disease|  North Dakota| 1382|                  150.7|\n",
      "|2009|            Diabetes|  North Dakota|  214|                   25.4|\n",
      "|2011|      Kidney disease|          Ohio| 1943|                   14.2|\n",
      "|2000|       Heart disease|      Delaware| 1983|                  262.5|\n",
      "|2003|              Cancer| New Hampshire| 2485|                  193.7|\n",
      "|2013|             Suicide|North Carolina| 1284|                   12.6|\n",
      "|2009|       Heart disease|      Arkansas| 7295|                  226.1|\n",
      "|2015| Alzheimer's disease|      Arkansas| 1457|                   41.5|\n",
      "|1999|              Cancer|       Montana| 1854|                  195.1|\n",
      "|2007| Alzheimer's disease|  Pennsylvania| 3505|                   20.3|\n",
      "|2001|Unintentional inj...|       Wyoming|  272|                   55.5|\n",
      "|2012|              Cancer|  North Dakota| 1253|                  150.7|\n",
      "|2015|              Cancer|       Indiana|13511|                  176.3|\n",
      "|2001|              Stroke|  Rhode Island|  614|                   48.2|\n",
      "|2002|              Cancer|  Rhode Island| 2404|                  199.3|\n",
      "|2002|       Heart disease|      Virginia|14952|                    230|\n",
      "+----+--------------------+--------------+-----+-----------------------+\n",
      "only showing top 20 rows\n",
      "\n"
     ]
    }
   ],
   "source": [
    "results.show()"
   ]
  },
  {
   "cell_type": "code",
   "execution_count": null,
   "metadata": {},
   "outputs": [],
   "source": []
  }
 ],
 "metadata": {
  "kernelspec": {
   "display_name": "Python 3",
   "language": "python",
   "name": "python3"
  },
  "language_info": {
   "codemirror_mode": {
    "name": "ipython",
    "version": 2
   },
   "file_extension": ".py",
   "mimetype": "text/x-python",
   "name": "python",
   "nbconvert_exporter": "python",
   "pygments_lexer": "ipython2",
   "version": "2.7.17"
  }
 },
 "nbformat": 4,
 "nbformat_minor": 2
}
